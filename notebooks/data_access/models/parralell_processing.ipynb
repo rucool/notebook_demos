{
 "cells": [
  {
   "cell_type": "code",
   "execution_count": 14,
   "id": "2b8c5899-caa2-4ed6-baa0-e79b49ecb8e5",
   "metadata": {},
   "outputs": [],
   "source": [
    "from glob import glob\n",
    "from hfradarpy.radials import Radial\n",
    "from joblib import Parallel, delayed\n",
    "import multiprocessing\n",
    "import os\n",
    "import xarray as xr"
   ]
  },
  {
   "cell_type": "code",
   "execution_count": 8,
   "id": "ed479463-4aaa-4f67-a532-9c72b7e13f6a",
   "metadata": {},
   "outputs": [
    {
     "data": {
      "text/plain": [
       "['/Users/mikesmith/Documents/github/rucool/hfradarpy/examples/data/radials/ruv/SEAB/RDLi_SEAB_2019_01_01_0000.ruv',\n",
       " '/Users/mikesmith/Documents/github/rucool/hfradarpy/examples/data/radials/ruv/SEAB/RDLi_SEAB_2019_01_01_0100.ruv',\n",
       " '/Users/mikesmith/Documents/github/rucool/hfradarpy/examples/data/radials/ruv/SEAB/RDLi_SEAB_2019_01_01_0200.ruv']"
      ]
     },
     "execution_count": 8,
     "metadata": {},
     "output_type": "execute_result"
    }
   ],
   "source": [
    "rdir = \"/Users/mikesmith/Documents/github/rucool/hfradarpy/examples/data/radials/ruv/SEAB\"\n",
    "ext = \"*.ruv\"\n",
    "\n",
    "radial_list = sorted(glob(os.path.join(rdir, ext)))\n",
    "radial_list[:3] # list only the first 3"
   ]
  },
  {
   "cell_type": "code",
   "execution_count": 13,
   "id": "50fedd19-83a0-45bd-b13a-8ae3215979c1",
   "metadata": {},
   "outputs": [
    {
     "name": "stdout",
     "output_type": "stream",
     "text": [
      "4.67 s ± 222 ms per loop (mean ± std. dev. of 7 runs, 1 loop each)\n"
     ]
    }
   ],
   "source": [
    "%%timeit\n",
    "\n",
    "radial_dict = {}\n",
    "for radial in radial_list:\n",
    "    if not isinstance(radial, Radial):\n",
    "        radial = Radial(radial)\n",
    "        radial_dict[radial.file_name] = radial.to_xarray(\"gridded\", enhance=True)\n",
    "\n",
    "ds = xr.concat(radial_dict.values(), \"time\").sortby(\"time\")\n",
    "# ds"
   ]
  },
  {
   "cell_type": "code",
   "execution_count": 16,
   "id": "b4d0feb4-5024-48f0-a59c-da692edda9e4",
   "metadata": {},
   "outputs": [],
   "source": [
    "def load_radials(radial):\n",
    "    if not isinstance(radial, Radial):\n",
    "        radial = Radial(radial)\n",
    "        ds = radial.to_xarray(\"gridded\", enhance=True)\n",
    "    return (radial.file_name, ds)"
   ]
  },
  {
   "cell_type": "code",
   "execution_count": 17,
   "id": "7b908d3a-49cb-4a19-936e-63f7121b3157",
   "metadata": {},
   "outputs": [
    {
     "name": "stdout",
     "output_type": "stream",
     "text": [
      "821 ms ± 14.8 ms per loop (mean ± std. dev. of 7 runs, 1 loop each)\n"
     ]
    }
   ],
   "source": [
    "%%timeit\n",
    "num_cores = multiprocessing.cpu_count()\n",
    "# num_cores\n",
    "radials = Parallel(n_jobs=num_cores)(delayed(load_radials)(radial=r) for r in radial_list)\n",
    "radial_dict = {radial: ds for (radial, ds) in radials}\n",
    "ds = xr.concat(radial_dict.values(), \"time\").sortby(\"time\")"
   ]
  },
  {
   "cell_type": "code",
   "execution_count": 18,
   "id": "3817f322-b577-421c-835d-f0ef3ceae5a7",
   "metadata": {},
   "outputs": [
    {
     "name": "stdout",
     "output_type": "stream",
     "text": [
      "4.82 s ± 278 ms per loop (mean ± std. dev. of 7 runs, 1 loop each)\n"
     ]
    }
   ],
   "source": [
    "%%timeit\n",
    "radials = Parallel(n_jobs=1)(delayed(load_radials)(radial=r) for r in radial_list)\n",
    "radial_dict = {radial: ds for (radial, ds) in radials}\n",
    "ds = xr.concat(radial_dict.values(), \"time\").sortby(\"time\")"
   ]
  },
  {
   "cell_type": "code",
   "execution_count": null,
   "id": "b77f7f48-f8fd-4b2a-b10c-ca2c7c70d1f5",
   "metadata": {},
   "outputs": [],
   "source": []
  }
 ],
 "metadata": {
  "kernelspec": {
   "display_name": "Python 3 (ipykernel)",
   "language": "python",
   "name": "python3"
  },
  "language_info": {
   "codemirror_mode": {
    "name": "ipython",
    "version": 3
   },
   "file_extension": ".py",
   "mimetype": "text/x-python",
   "name": "python",
   "nbconvert_exporter": "python",
   "pygments_lexer": "ipython3",
   "version": "3.10.2"
  }
 },
 "nbformat": 4,
 "nbformat_minor": 5
}
